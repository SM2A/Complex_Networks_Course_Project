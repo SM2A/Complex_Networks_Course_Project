{
 "cells": [
  {
   "cell_type": "markdown",
   "id": "a4f896c56cb701b4",
   "metadata": {},
   "source": [
    "# Seyed Mohammad Amin Atyabi - 830402014 - HW 3 (Part 3)"
   ]
  },
  {
   "cell_type": "code",
   "execution_count": 6,
   "id": "67041a93",
   "metadata": {},
   "outputs": [
    {
     "name": "stdout",
     "output_type": "stream",
     "text": [
      "Graph: Directed\n",
      "  Nodes:                    7115\n",
      "  Edges:                    103689\n",
      "  Zero Deg Nodes:           0\n",
      "  Zero InDeg Nodes:         4734\n",
      "  Zero OutDeg Nodes:        1005\n",
      "  NonZero In-Out Deg Nodes: 1376\n"
     ]
    }
   ],
   "source": [
    "import snap\n",
    "\n",
    "graph = snap.LoadEdgeList(snap.TNGraph, \"Data/wiki-Vote.txt\", 0, 1)\n",
    "graph.PrintInfo()"
   ]
  },
  {
   "cell_type": "code",
   "execution_count": 7,
   "id": "76b71ecf",
   "metadata": {},
   "outputs": [
    {
     "name": "stdout",
     "output_type": "stream",
     "text": [
      "average clustering coefficient 0.14089784589308724\n"
     ]
    }
   ],
   "source": [
    "result, _ = graph.GetClustCfAll()\n",
    "print(\"average clustering coefficient\", result[0])"
   ]
  },
  {
   "cell_type": "code",
   "execution_count": 8,
   "id": "bad81d5a",
   "metadata": {},
   "outputs": [
    {
     "name": "stdout",
     "output_type": "stream",
     "text": [
      "24\n"
     ]
    }
   ],
   "source": [
    "wccs = graph.GetWccs()\n",
    "print(len(wccs))"
   ]
  },
  {
   "cell_type": "code",
   "execution_count": 9,
   "id": "adf3ed56",
   "metadata": {},
   "outputs": [
    {
     "name": "stdout",
     "output_type": "stream",
     "text": [
      "Graph: Directed\n",
      "  Nodes:                    1300\n",
      "  Edges:                    39456\n",
      "  Zero Deg Nodes:           0\n",
      "  Zero InDeg Nodes:         0\n",
      "  Zero OutDeg Nodes:        0\n",
      "  NonZero In-Out Deg Nodes: 1300\n"
     ]
    }
   ],
   "source": [
    "max_scc = graph.GetMxScc()\n",
    "max_scc.PrintInfo()"
   ]
  },
  {
   "cell_type": "code",
   "execution_count": 10,
   "id": "4333fde4",
   "metadata": {},
   "outputs": [],
   "source": [
    "graph.PlotInDegDistr(\"wiki\", \"Directed graph - in-degree Distribution\", True, True)"
   ]
  },
  {
   "cell_type": "code",
   "execution_count": 11,
   "id": "713bcf40",
   "metadata": {},
   "outputs": [],
   "source": [
    "graph.PlotOutDegDistr(\"wiki\", \"Directed graph - in-degree Distribution\", True, True)"
   ]
  }
 ],
 "metadata": {
  "kernelspec": {
   "display_name": "Python 3",
   "language": "python",
   "name": "python3"
  },
  "language_info": {
   "codemirror_mode": {
    "name": "ipython",
    "version": 3
   },
   "file_extension": ".py",
   "mimetype": "text/x-python",
   "name": "python",
   "nbconvert_exporter": "python",
   "pygments_lexer": "ipython3",
   "version": "3.8.10"
  }
 },
 "nbformat": 4,
 "nbformat_minor": 5
}

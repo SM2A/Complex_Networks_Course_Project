{
 "cells": [
  {
   "cell_type": "markdown",
   "id": "a4f896c56cb701b4",
   "metadata": {},
   "source": [
    "# Seyed Mohammad Amin Atyabi - 830402014 - HW 3 (Part 4)"
   ]
  },
  {
   "metadata": {},
   "cell_type": "markdown",
   "source": [
    "**شبکه تصادفی**\n",
    "\n",
    "ابتدا گراف بدون جهتی میسازیم.\n",
    "\n",
    "سپس 5242 گره به این گراف اضافه میکنیم.\n",
    "\n",
    "در انتها به تعداد 14484 یال تصادفی به شبکه اضافه میکنیم. فرآیند اضافه کردن یال بدین صورت است که به تصادف دو گره از گراف را انتخاب کرده و میان آن ها یالی قرار میدهیم."
   ],
   "id": "7d795d85f1f72f93"
  },
  {
   "cell_type": "code",
   "execution_count": 9,
   "id": "eb795107",
   "metadata": {},
   "outputs": [
    {
     "name": "stdout",
     "output_type": "stream",
     "text": [
      "Graph:\n",
      "  Nodes:                    5242\n",
      "  Edges:                    14484\n",
      "  Zero Deg Nodes:           21\n",
      "  Zero InDeg Nodes:         21\n",
      "  Zero OutDeg Nodes:        21\n",
      "  NonZero In-Out Deg Nodes: 5221\n"
     ]
    }
   ],
   "source": [
    "import snap\n",
    "\n",
    "random_graph = snap.TUNGraph.New()\n",
    "\n",
    "for v in range(5242):\n",
    "    random_graph.AddNode(v)\n",
    "\n",
    "while random_graph.GetEdges() < 14484:\n",
    "    random_graph.AddEdge(random_graph.GetRndNId(), random_graph.GetRndNId())\n",
    "\n",
    "random_graph.PrintInfo()"
   ]
  },
  {
   "metadata": {},
   "cell_type": "markdown",
   "source": [
    "**مدل جهان کوچک**\n",
    "\n",
    "با استفاده از توابع موجود در پکیج اسنپ، یک شبکه جهان کوچک با 5242 گره میسازیم که هر گره با گره بعدی و گره بعد از آن یال دارد میسازیم.\n",
    "\n",
    "حال تا زمانی که شبکه به 14484 یال برسد، به صورت تصادفی دو گره را انتخاب کرده و میان آن ها یال رسم میکنیم."
   ],
   "id": "f92b3cbab531c9"
  },
  {
   "cell_type": "code",
   "execution_count": 13,
   "id": "af9bd7f8",
   "metadata": {},
   "outputs": [
    {
     "name": "stdout",
     "output_type": "stream",
     "text": [
      "Graph:\n",
      "  Nodes:                    5242\n",
      "  Edges:                    14484\n",
      "  Zero Deg Nodes:           0\n",
      "  Zero InDeg Nodes:         0\n",
      "  Zero OutDeg Nodes:        0\n",
      "  NonZero In-Out Deg Nodes: 5242\n"
     ]
    }
   ],
   "source": [
    "rnd = snap.TRnd(1,0)\n",
    "sm_graph = snap.GenSmallWorld(5242, 2, 0, rnd)\n",
    "while sm_graph.GetEdges() < 14484:\n",
    "    sm_graph.AddEdge(sm_graph.GetRndNId(), sm_graph.GetRndNId())\n",
    "sm_graph.PrintInfo()"
   ]
  },
  {
   "metadata": {},
   "cell_type": "markdown",
   "source": [
    "**شبکه دنیای واقعی**\n",
    "\n",
    "فایل داده شده وارد برنامه میکنیم. سپس یال های طوقه آن را حذف میکنیم."
   ],
   "id": "728fb97ae7e2ada6"
  },
  {
   "cell_type": "code",
   "execution_count": 17,
   "id": "f310354c",
   "metadata": {},
   "outputs": [
    {
     "name": "stdout",
     "output_type": "stream",
     "text": [
      "Graph:\n",
      "  Nodes:                    5242\n",
      "  Edges:                    14484\n",
      "  Zero Deg Nodes:           1\n",
      "  Zero InDeg Nodes:         1\n",
      "  Zero OutDeg Nodes:        1\n",
      "  NonZero In-Out Deg Nodes: 5241\n"
     ]
    }
   ],
   "source": [
    "real_graph = snap.LoadEdgeList(snap.TUNGraph, \"Data/CA-GrQc.txt\", 0, 1)\n",
    "real_graph.DelSelfEdges()\n",
    "real_graph.PrintInfo()"
   ]
  },
  {
   "cell_type": "code",
   "execution_count": null,
   "id": "f57a7c2d",
   "metadata": {},
   "outputs": [],
   "source": [
    "import numpy\n",
    "\n",
    "def calculate_excess_degree_distribution(graph):\n",
    "    degree_sequence = []\n",
    "    for node in graph.Nodes():\n",
    "        degree_sequence.append(node.GetDeg())\n",
    "\n",
    "    excess_degree_sequence = numpy.array(degree_sequence) - 1\n",
    "    excess_degree_counts = numpy.bincount(excess_degree_sequence)\n",
    "    excess_degree_distribution = excess_degree_counts / numpy.sum(excess_degree_counts)\n",
    "\n",
    "    return excess_degree_distribution"
   ]
  }
 ],
 "metadata": {
  "kernelspec": {
   "display_name": "Python 3",
   "language": "python",
   "name": "python3"
  },
  "language_info": {
   "codemirror_mode": {
    "name": "ipython",
    "version": 3
   },
   "file_extension": ".py",
   "mimetype": "text/x-python",
   "name": "python",
   "nbconvert_exporter": "python",
   "pygments_lexer": "ipython3",
   "version": "3.8.10"
  }
 },
 "nbformat": 4,
 "nbformat_minor": 5
}

{
 "cells": [
  {
   "cell_type": "markdown",
   "id": "a4f896c56cb701b4",
   "metadata": {},
   "source": "# Seyed Mohammad Amin Atyabi - 830402014 - HW 5 (Part 2)"
  },
  {
   "metadata": {},
   "cell_type": "markdown",
   "source": [
    "در این بخش قرار است تا شبکه ای مقیاس آزاد به صورت تصادفی تولید کرده و در این شبکه با استفاده از معیار مرکزیت، گره های تاثیر گذار را شناسایی کنیم. اندازه گیری معیار مرکزیت را در حین تکامل شبکه انجام میدهیم تا نحوه تکامل مشخص باشد.\n",
    "\n",
    "در این بخش از روی $preferential attachment$ برای ساخت شبکه استفاده کردیم. از 100 گره شروع و در هر مرحله 100 گره به شبکه اضافه میشوند. هر گره حداقل 2 یال در این شبکه دارد.\n",
    "\n",
    "برای این تمرین معیار های مرکزیت مختلفی وجود دارند اما با بررسی های انجام شده (برای مثال [این مقاله](https://doi.org/10.1016/j.jksuci.2023.101798)) معیار مرکزیت بینیت را برای اندازه گیری انتخاب میکنیم چرا که معیاری است که نسبتا تمام شبکه را در بر میگیرد و مانند معیار هایی مثل مرکزیت درجه، به صورت محلی عملی نمیکند."
   ],
   "id": "35e5c087b6f4d9ca"
  },
  {
   "metadata": {},
   "cell_type": "markdown",
   "source": "برای محاسبه معیار مرکزیت بینیت روی شبکه الگوریتم $BFS$ را اجرا میکنیم تا کوتاهترین مسیر را بدست بیاوریم. سپس تعداد این کوتاهترین مسیر ها را ذخیره میکنیم و به هر گره اختصاص میدهیم.",
   "id": "5d086ca41b07b4f9"
  },
  {
   "metadata": {
    "jupyter": {
     "is_executing": true
    }
   },
   "cell_type": "code",
   "source": [
    "import random\n",
    "import networkx\n",
    "from collections import deque\n",
    "from matplotlib import pyplot as plt\n",
    "\n",
    "\n",
    "def create_network(n, m, initial_network=None):\n",
    "    if initial_network is None:\n",
    "        network = networkx.Graph()\n",
    "        network.add_node(0)\n",
    "    else:\n",
    "        network = initial_network.copy()\n",
    "\n",
    "    prev_network_size = len(network.nodes)\n",
    "    for i in range(prev_network_size, prev_network_size + n):\n",
    "        nodes = list(network.nodes)\n",
    "        probabilities = [len(nodes) for _ in nodes]\n",
    "        total = sum(probabilities)\n",
    "        probabilities = [p / total for p in probabilities]\n",
    "\n",
    "        chosen_nodes = random.choices(nodes, probabilities, k=m)\n",
    "\n",
    "        for node in chosen_nodes:\n",
    "            network.add_edge(i, node)\n",
    "\n",
    "    return network.copy()\n",
    "\n",
    "\n",
    "def calculate_betweenness_centrality(network):\n",
    "    betweenness_centrality = {node: 0.0 for node in network.nodes}\n",
    "\n",
    "    for node in network.nodes:\n",
    "        stack = []\n",
    "        paths = {w: [] for w in network.nodes}\n",
    "        paths[node] = [node]\n",
    "        num_paths = {w: 0 for w in network.nodes}\n",
    "        num_paths[node] = 1\n",
    "        dist = {w: -1 for w in network.nodes}\n",
    "        dist[node] = 0\n",
    "        queue = deque([node])\n",
    "\n",
    "        while queue:\n",
    "            v = queue.popleft()\n",
    "            stack.append(v)\n",
    "            for w in network.neighbors(v):\n",
    "                if dist[w] < 0:\n",
    "                    queue.append(w)\n",
    "                    dist[w] = dist[v] + 1\n",
    "                if dist[w] == dist[v] + 1:\n",
    "                    num_paths[w] += num_paths[v]\n",
    "                    paths[w].append(v)\n",
    "\n",
    "        delta = {w: 0 for w in network.nodes}\n",
    "        while stack:\n",
    "            w = stack.pop()\n",
    "            for v in paths[w]:\n",
    "                delta[v] += (num_paths[v] / num_paths[w]) * (1 + delta[w])\n",
    "            if w != node:\n",
    "                betweenness_centrality[w] += delta[w]\n",
    "\n",
    "    return betweenness_centrality\n",
    "\n",
    "\n",
    "def detect_influencers(centrality_snapshots, threshold):\n",
    "    influencers = []\n",
    "    for t in range(len(centrality_snapshots) - 1):\n",
    "        centrality_t = centrality_snapshots[t]\n",
    "        centrality_t_plus_1 = centrality_snapshots[t + 1]\n",
    "        for node, centrality in centrality_t.items():\n",
    "            change_in_centrality = abs(centrality_t_plus_1[node] - centrality)\n",
    "            if change_in_centrality > threshold:\n",
    "                influencers.append(node)\n",
    "    return influencers\n",
    "\n",
    "\n",
    "def draw_network(network, centrality, figsize=(10, 10)):\n",
    "    high_centrality_threshold = (max(centrality.values()) * 0.6)\n",
    "    node_colors = ['r' if c > high_centrality_threshold else 'c' for c in centrality.values()]\n",
    "    plt.figure(figsize=figsize)\n",
    "    pos = networkx.spring_layout(network)\n",
    "    networkx.draw(network, pos, node_color=node_colors, with_labels=True)\n",
    "    plt.show()"
   ],
   "id": "ce9aed9ec69b2163",
   "outputs": [],
   "execution_count": null
  },
  {
   "metadata": {},
   "cell_type": "markdown",
   "source": [
    "در شکل زیر شبکه ای که کار با آن آغاز میشود را مشاهده میکنید که دارای 100 گره است.\n",
    "\n",
    "در این شبکه گره های تاثیر گذار با رنگ قرمز مشخص شده اند."
   ],
   "id": "2e5eb770aa139eff"
  },
  {
   "metadata": {},
   "cell_type": "code",
   "source": [
    "networks = [create_network(100, 2)]\n",
    "centrality = [calculate_betweenness_centrality(networks[-1])]\n",
    "\n",
    "print(f'Influencer nodes: {list(set(detect_influencers(centrality, 3000)))}')\n",
    "draw_network(networks[-1], centrality[-1], (10, 10))"
   ],
   "id": "61d04cf6434cb0a7",
   "outputs": [],
   "execution_count": null
  },
  {
   "metadata": {},
   "cell_type": "markdown",
   "source": [
    "در ادامه نحوه تکامل شبکه ملاحظه میشود.\n",
    "\n",
    "در هر مرحله 100 گره به شبکه اضافه میشوند و گره های تاثیر گذار با رنگ قرمز مشخص شده اند."
   ],
   "id": "2ea455d2130ec932"
  },
  {
   "metadata": {},
   "cell_type": "code",
   "source": [
    "SNAPSHOTS_COUNT = 20\n",
    "figsize = (10, 10)\n",
    "\n",
    "for _ in range(SNAPSHOTS_COUNT):\n",
    "    networks.append(create_network(100, 2, networks[-1]))\n",
    "    centrality.append(calculate_betweenness_centrality(networks[-1]))\n",
    "    figsize = (figsize[0] + 2, figsize[1] + 2)\n",
    "    draw_network(networks[-1], centrality[-1], figsize)"
   ],
   "id": "24588c8f2137a7d1",
   "outputs": [],
   "execution_count": null
  },
  {
   "metadata": {},
   "cell_type": "markdown",
   "source": "در نهایت گره های تاثیر گذار به صورت زیر مشخص شده اند.",
   "id": "b45155da987327bc"
  },
  {
   "metadata": {},
   "cell_type": "code",
   "source": "print(f'Influencer nodes: {list(set(detect_influencers(centrality, 8000)))}')",
   "id": "162403bad06231d6",
   "outputs": [],
   "execution_count": null
  }
 ],
 "metadata": {
  "kernelspec": {
   "display_name": "Python 3",
   "language": "python",
   "name": "python3"
  },
  "language_info": {
   "codemirror_mode": {
    "name": "ipython",
    "version": 3
   },
   "file_extension": ".py",
   "mimetype": "text/x-python",
   "name": "python",
   "nbconvert_exporter": "python",
   "pygments_lexer": "ipython3",
   "version": "3.8.10"
  }
 },
 "nbformat": 4,
 "nbformat_minor": 5
}

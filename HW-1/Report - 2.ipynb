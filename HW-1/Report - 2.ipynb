{
 "cells": [
  {
   "cell_type": "markdown",
   "source": [
    "# Seyed Mohammad Amin Atyabi - 830402014 - HW 1 (Part 2)"
   ],
   "metadata": {
    "collapsed": false
   },
   "id": "f1f0a83d0ba96b38"
  },
  {
   "cell_type": "markdown",
   "source": [
    "در این بخش فایل داده ورودی خط به خط خوانده شده و با توجه به دو سر یال، ارتباط آن ها در ماتریس مجاورتی که به تدریح در حال تکمیل است اضافه شده است.\n",
    "\n",
    "سپس در ادامه به ازای هر گره به  کمک کتابخانه نام  پای، تعداد خانه های غیر صفر مرتبط با گره را می شماریم و نتیجه آن را به لیست مربوطه اضافه میکنیم."
   ],
   "metadata": {
    "collapsed": false
   },
   "id": "801ad06f39a64c9d"
  },
  {
   "cell_type": "code",
   "execution_count": 1,
   "outputs": [],
   "source": [
    "NO_LINK = 0\n",
    "LINK = 1\n",
    "\n",
    "adj_mat = []\n",
    "\n",
    "with open('Data/Social_Network.txt') as file:\n",
    "    for line in file:\n",
    "        start, end = line.split()\n",
    "        start, end = int(start), int(end)\n",
    "        max_size = int(max(start, end))\n",
    "        while len(adj_mat) < max_size + 1:\n",
    "            adj_mat.append([])\n",
    "        for row in adj_mat:\n",
    "            while len(row) < max_size + 1:\n",
    "                row.append(NO_LINK)\n",
    "        adj_mat[start][end] = LINK\n",
    "        adj_mat[end][start] = LINK"
   ],
   "metadata": {
    "collapsed": false,
    "ExecuteTime": {
     "end_time": "2024-03-10T20:28:44.882594300Z",
     "start_time": "2024-03-10T20:28:20.053968400Z"
    }
   },
   "id": "c632519a644c48d5"
  },
  {
   "cell_type": "code",
   "execution_count": 2,
   "outputs": [
    {
     "data": {
      "text/plain": "<Figure size 640x480 with 1 Axes>",
      "image/png": "[encoded data removed]"
     },
     "metadata": {},
     "output_type": "display_data"
    }
   ],
   "source": [
    "import numpy\n",
    "from matplotlib import pyplot as plt\n",
    "\n",
    "degree = []\n",
    "for node in range(len(adj_mat)):\n",
    "    adj  = numpy.array(adj_mat[node])\n",
    "    degree.append(len((adj == 1).nonzero()[-1]))\n",
    "    \n",
    "plt.hist(degree, bins=len(degree), color='c')\n",
    "plt.title('Degree Distribution')\n",
    "plt.xlabel('Degree')\n",
    "plt.ylabel('Count')\n",
    "plt.show()"
   ],
   "metadata": {
    "collapsed": false,
    "ExecuteTime": {
     "end_time": "2024-03-10T20:28:48.028151500Z",
     "start_time": "2024-03-10T20:28:44.884588900Z"
    }
   },
   "id": "ded9a1565ab51038"
  },
  {
   "cell_type": "markdown",
   "source": [
    "همانطور که در نمودار بالا مشاهده میشود، تعداد زیادی گره با درجه کم  و تعداد کمی گره با درجه زیاد داریم"
   ],
   "metadata": {
    "collapsed": false
   },
   "id": "7afb2493b6f2242a"
  }
 ],
 "metadata": {
  "kernelspec": {
   "display_name": "Python 3",
   "language": "python",
   "name": "python3"
  },
  "language_info": {
   "codemirror_mode": {
    "name": "ipython",
    "version": 2
   },
   "file_extension": ".py",
   "mimetype": "text/x-python",
   "name": "python",
   "nbconvert_exporter": "python",
   "pygments_lexer": "ipython2",
   "version": "2.7.6"
  }
 },
 "nbformat": 4,
 "nbformat_minor": 5
}

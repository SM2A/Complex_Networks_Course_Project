{
 "cells": [
  {
   "cell_type": "markdown",
   "id": "a4f896c56cb701b4",
   "metadata": {},
   "source": "# Seyed Mohammad Amin Atyabi - 830402014 - HW 4 (Part 3)"
  },
  {
   "metadata": {},
   "cell_type": "code",
   "outputs": [],
   "execution_count": null,
   "source": [
    "import random\n",
    "import networkx\n",
    "from matplotlib import pyplot as plt\n",
    "\n",
    "\n",
    "def create_graph(n, m, hidden_parameter):\n",
    "    network = networkx.Graph()\n",
    "\n",
    "    for i in range(n):\n",
    "        probability = 0\n",
    "        if hidden_parameter == \"uniform\":\n",
    "            probability = random.uniform(0, 1)\n",
    "        elif hidden_parameter == \"normal\":\n",
    "            probability = random.normalvariate(1, 1)\n",
    "        elif hidden_parameter == \"exponential\":\n",
    "            probability = random.expovariate()\n",
    "        network.add_node(i, probability=probability)\n",
    "\n",
    "    for i in range(n):\n",
    "        probs = networkx.get_node_attributes(network, \"probability\")\n",
    "        attachment = random.choices(list(probs.keys()), weights=list(probs.values()), k=m)\n",
    "        network.add_edges_from([(i, j) for j in attachment])\n",
    "\n",
    "    return network\n",
    "\n",
    "\n",
    "def plot_degree_distribution(network):\n",
    "    degrees = [network.degree(n) for n in network.nodes()]\n",
    "    bin_count = len(set(degrees))\n",
    "\n",
    "    plt.figure(figsize=(10, 5))\n",
    "\n",
    "    plt.subplot(1, 2, 1)\n",
    "    plt.title(\"Degree Distribution\")\n",
    "    plt.xlabel(\"Degree\")\n",
    "    plt.ylabel(\"Frequency\")\n",
    "    plt.hist(degrees, bins=bin_count, color='m', rwidth=0.8)\n",
    "\n",
    "    plt.subplot(1, 2, 2)\n",
    "    plt.title(\"Degree Distribution\")\n",
    "    plt.xlabel(\"Degree\")\n",
    "    plt.ylabel(\"Frequency\")\n",
    "    plt.xscale('log')\n",
    "    plt.yscale('log')\n",
    "    plt.hist(degrees, bins=bin_count, color='c', rwidth=0.8)\n",
    "\n",
    "    plt.show()\n",
    "\n",
    "\n",
    "g = create_graph(1000, 3, \"uniform\")\n",
    "plot_degree_distribution(g)\n",
    "\n",
    "g = create_graph(1000, 3, \"normal\")\n",
    "plot_degree_distribution(g)\n",
    "\n",
    "g = create_graph(1000, 3, \"exponential\")\n",
    "plot_degree_distribution(g)"
   ],
   "id": "dc088cc217814294"
  }
 ],
 "metadata": {
  "kernelspec": {
   "display_name": "Python 3",
   "language": "python",
   "name": "python3"
  },
  "language_info": {
   "codemirror_mode": {
    "name": "ipython",
    "version": 3
   },
   "file_extension": ".py",
   "mimetype": "text/x-python",
   "name": "python",
   "nbconvert_exporter": "python",
   "pygments_lexer": "ipython3",
   "version": "3.8.10"
  }
 },
 "nbformat": 4,
 "nbformat_minor": 5
}

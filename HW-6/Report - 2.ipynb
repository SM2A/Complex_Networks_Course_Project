{
 "cells": [
  {
   "cell_type": "markdown",
   "id": "a4f896c56cb701b4",
   "metadata": {},
   "source": "# Seyed Mohammad Amin Atyabi - 830402014 - HW 2 (Part 2 - Question 2)"
  },
  {
   "metadata": {},
   "cell_type": "markdown",
   "source": "<img src=\"Res/graph.jpg\" width=\"1280\">",
   "id": "ef8623f4324a92b0"
  },
  {
   "metadata": {
    "ExecuteTime": {
     "end_time": "2024-06-06T13:28:33.032664Z",
     "start_time": "2024-06-06T13:28:32.944386Z"
    }
   },
   "cell_type": "code",
   "source": [
    "import numpy\n",
    "\n",
    "adj = numpy.array([[0, 1, 1, 0, 0, 0],\n",
    "                   [1, 0, 1, 0, 0, 0],\n",
    "                   [1, 1, 0, 1, 0, 0],\n",
    "                   [0, 0, 1, 0, 1, 1],\n",
    "                   [0, 0, 0, 1, 0, 1],\n",
    "                   [0, 0, 0, 1, 1, 0]], int)\n",
    "\n",
    "k = sum(adj)\n",
    "total = sum(k)\n",
    "A = adj - (numpy.outer(k, k) / total)\n",
    "x, v = numpy.linalg.eig(A)\n",
    "vector = v[:, x.argmax()]\n",
    "print(vector)"
   ],
   "id": "d19fd7dd6cb63bd4",
   "outputs": [
    {
     "name": "stdout",
     "output_type": "stream",
     "text": [
      "[ 0.44403692  0.44403692  0.32505758 -0.32505758 -0.44403692 -0.44403692]\n"
     ]
    }
   ],
   "execution_count": 1
  }
 ],
 "metadata": {
  "kernelspec": {
   "display_name": "Python 3 (ipykernel)",
   "language": "python",
   "name": "python3"
  },
  "language_info": {
   "codemirror_mode": {
    "name": "ipython",
    "version": 3
   },
   "file_extension": ".py",
   "mimetype": "text/x-python",
   "name": "python",
   "nbconvert_exporter": "python",
   "pygments_lexer": "ipython3",
   "version": "3.12.0"
  }
 },
 "nbformat": 4,
 "nbformat_minor": 5
}

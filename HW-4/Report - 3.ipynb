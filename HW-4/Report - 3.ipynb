{
 "cells": [
  {
   "cell_type": "markdown",
   "id": "a4f896c56cb701b4",
   "metadata": {},
   "source": "# Seyed Mohammad Amin Atyabi - 830402014 - HW 4 (Part 3)"
  },
  {
   "metadata": {
    "ExecuteTime": {
     "end_time": "2024-05-05T17:07:09.412873Z",
     "start_time": "2024-05-05T16:57:20.026303Z"
    }
   },
   "cell_type": "code",
   "source": [
    "import numpy\n",
    "import random\n",
    "import networkx\n",
    "from matplotlib import pyplot as plt\n",
    "\n",
    "\n",
    "def create_graph(n, m, hidden_parameter):\n",
    "    network = networkx.Graph()\n",
    "\n",
    "    for i in range(n):\n",
    "        probability = 0\n",
    "        if hidden_parameter == \"uniform\":\n",
    "            probability = random.uniform(0, 1)\n",
    "        elif hidden_parameter == \"normal\":\n",
    "            probability = random.normalvariate(1, 1)\n",
    "        elif hidden_parameter == \"exponential\":\n",
    "            probability = random.expovariate()\n",
    "        network.add_node(i, probability=probability)\n",
    "\n",
    "    for i in range(n):\n",
    "        probs = networkx.get_node_attributes(network, \"probability\")\n",
    "        attachment = random.choices(list(probs.keys()), weights=list(probs.values()), k=m)\n",
    "        network.add_edges_from([(i, j) for j in attachment])\n",
    "\n",
    "    return network\n",
    "\n",
    "\n",
    "def plot_degree_distribution(network):\n",
    "    degrees = [network.degree(n) for n in network.nodes()]\n",
    "    min_degree = min(degrees)\n",
    "    max_degree = max(degrees)\n",
    "    bins = numpy.logspace(numpy.log10(min_degree), numpy.log10(max_degree), num=len(set(degrees)))\n",
    "\n",
    "    plt.figure(figsize=(10, 5))\n",
    "\n",
    "    plt.subplot(1, 2, 1)\n",
    "    plt.title(\"Degree Distribution\")\n",
    "    plt.xlabel(\"Degree\")\n",
    "    plt.ylabel(\"Frequency\")\n",
    "    plt.hist(degrees, bins=list(set(degrees)), color='m', rwidth=0.8)\n",
    "\n",
    "    plt.subplot(1, 2, 2)\n",
    "    plt.title(\"Degree Distribution\")\n",
    "    plt.xlabel(\"Degree\")\n",
    "    plt.ylabel(\"Frequency\")\n",
    "    plt.xscale('log')\n",
    "    plt.yscale('log')\n",
    "    plt.hist(degrees, bins=bins, color='c', rwidth=0.8)\n",
    "\n",
    "    plt.show()\n",
    "\n",
    "\n",
    "def draw_network(network):\n",
    "    degrees = dict(network.degree())\n",
    "    high_degree_threshold = max(degrees.values()) * 0.75\n",
    "    node_colors = ['r' if degree > high_degree_threshold else 'c' for degree in degrees.values()]\n",
    "    plt.figure(figsize=(60, 60))\n",
    "    pos = networkx.spring_layout(network)\n",
    "    networkx.draw(network, pos, node_color=node_colors, with_labels=False)\n",
    "    networkx.draw_networkx_labels(network, pos, labels=degrees)\n",
    "    plt.show()\n",
    "\n",
    "\n",
    "g = create_graph(100000, 4, \"uniform\")\n",
    "plot_degree_distribution(g)\n",
    "\n",
    "g = create_graph(100000, 4, \"normal\")\n",
    "plot_degree_distribution(g)\n",
    "\n",
    "g = create_graph(100000, 4, \"exponential\")\n",
    "plot_degree_distribution(g)"
   ],
   "id": "dc088cc217814294",
   "outputs": [
    {
     "ename": "KeyboardInterrupt",
     "evalue": "",
     "output_type": "error",
     "traceback": [
      "\u001B[1;31m---------------------------------------------------------------------------\u001B[0m",
      "\u001B[1;31mKeyboardInterrupt\u001B[0m                         Traceback (most recent call last)",
      "Cell \u001B[1;32mIn[1], line 53\u001B[0m\n\u001B[0;32m     48\u001B[0m     plt\u001B[38;5;241m.\u001B[39mhist(degrees, bins\u001B[38;5;241m=\u001B[39mbins, color\u001B[38;5;241m=\u001B[39m\u001B[38;5;124m'\u001B[39m\u001B[38;5;124mc\u001B[39m\u001B[38;5;124m'\u001B[39m, rwidth\u001B[38;5;241m=\u001B[39m\u001B[38;5;241m0.8\u001B[39m)\n\u001B[0;32m     50\u001B[0m     plt\u001B[38;5;241m.\u001B[39mshow()\n\u001B[1;32m---> 53\u001B[0m g \u001B[38;5;241m=\u001B[39m \u001B[43mcreate_graph\u001B[49m\u001B[43m(\u001B[49m\u001B[38;5;241;43m100000\u001B[39;49m\u001B[43m,\u001B[49m\u001B[43m \u001B[49m\u001B[38;5;241;43m4\u001B[39;49m\u001B[43m,\u001B[49m\u001B[43m \u001B[49m\u001B[38;5;124;43m\"\u001B[39;49m\u001B[38;5;124;43muniform\u001B[39;49m\u001B[38;5;124;43m\"\u001B[39;49m\u001B[43m)\u001B[49m\n\u001B[0;32m     54\u001B[0m plot_degree_distribution(g)\n\u001B[0;32m     56\u001B[0m g \u001B[38;5;241m=\u001B[39m create_graph(\u001B[38;5;241m100000\u001B[39m, \u001B[38;5;241m4\u001B[39m, \u001B[38;5;124m\"\u001B[39m\u001B[38;5;124mnormal\u001B[39m\u001B[38;5;124m\"\u001B[39m)\n",
      "Cell \u001B[1;32mIn[1], line 22\u001B[0m, in \u001B[0;36mcreate_graph\u001B[1;34m(n, m, hidden_parameter)\u001B[0m\n\u001B[0;32m     20\u001B[0m \u001B[38;5;28;01mfor\u001B[39;00m i \u001B[38;5;129;01min\u001B[39;00m \u001B[38;5;28mrange\u001B[39m(n):\n\u001B[0;32m     21\u001B[0m     probs \u001B[38;5;241m=\u001B[39m networkx\u001B[38;5;241m.\u001B[39mget_node_attributes(network, \u001B[38;5;124m\"\u001B[39m\u001B[38;5;124mprobability\u001B[39m\u001B[38;5;124m\"\u001B[39m)\n\u001B[1;32m---> 22\u001B[0m     attachment \u001B[38;5;241m=\u001B[39m \u001B[43mrandom\u001B[49m\u001B[38;5;241;43m.\u001B[39;49m\u001B[43mchoices\u001B[49m\u001B[43m(\u001B[49m\u001B[38;5;28;43mlist\u001B[39;49m\u001B[43m(\u001B[49m\u001B[43mprobs\u001B[49m\u001B[38;5;241;43m.\u001B[39;49m\u001B[43mkeys\u001B[49m\u001B[43m(\u001B[49m\u001B[43m)\u001B[49m\u001B[43m)\u001B[49m\u001B[43m,\u001B[49m\u001B[43m \u001B[49m\u001B[43mweights\u001B[49m\u001B[38;5;241;43m=\u001B[39;49m\u001B[38;5;28;43mlist\u001B[39;49m\u001B[43m(\u001B[49m\u001B[43mprobs\u001B[49m\u001B[38;5;241;43m.\u001B[39;49m\u001B[43mvalues\u001B[49m\u001B[43m(\u001B[49m\u001B[43m)\u001B[49m\u001B[43m)\u001B[49m\u001B[43m,\u001B[49m\u001B[43m \u001B[49m\u001B[43mk\u001B[49m\u001B[38;5;241;43m=\u001B[39;49m\u001B[43mm\u001B[49m\u001B[43m)\u001B[49m\n\u001B[0;32m     23\u001B[0m     network\u001B[38;5;241m.\u001B[39madd_edges_from([(i, j) \u001B[38;5;28;01mfor\u001B[39;00m j \u001B[38;5;129;01min\u001B[39;00m attachment])\n\u001B[0;32m     25\u001B[0m \u001B[38;5;28;01mreturn\u001B[39;00m network\n",
      "File \u001B[1;32m~\\AppData\\Local\\Programs\\Python\\Python312\\Lib\\random.py:484\u001B[0m, in \u001B[0;36mRandom.choices\u001B[1;34m(self, population, weights, cum_weights, k)\u001B[0m\n\u001B[0;32m    482\u001B[0m \u001B[38;5;28;01mif\u001B[39;00m total \u001B[38;5;241m<\u001B[39m\u001B[38;5;241m=\u001B[39m \u001B[38;5;241m0.0\u001B[39m:\n\u001B[0;32m    483\u001B[0m     \u001B[38;5;28;01mraise\u001B[39;00m \u001B[38;5;167;01mValueError\u001B[39;00m(\u001B[38;5;124m'\u001B[39m\u001B[38;5;124mTotal of weights must be greater than zero\u001B[39m\u001B[38;5;124m'\u001B[39m)\n\u001B[1;32m--> 484\u001B[0m \u001B[38;5;28;01mif\u001B[39;00m \u001B[38;5;129;01mnot\u001B[39;00m \u001B[43m_isfinite\u001B[49m\u001B[43m(\u001B[49m\u001B[43mtotal\u001B[49m\u001B[43m)\u001B[49m:\n\u001B[0;32m    485\u001B[0m     \u001B[38;5;28;01mraise\u001B[39;00m \u001B[38;5;167;01mValueError\u001B[39;00m(\u001B[38;5;124m'\u001B[39m\u001B[38;5;124mTotal of weights must be finite\u001B[39m\u001B[38;5;124m'\u001B[39m)\n\u001B[0;32m    486\u001B[0m bisect \u001B[38;5;241m=\u001B[39m _bisect\n",
      "\u001B[1;31mKeyboardInterrupt\u001B[0m: "
     ]
    }
   ],
   "execution_count": 1
  }
 ],
 "metadata": {
  "kernelspec": {
   "display_name": "Python 3",
   "language": "python",
   "name": "python3"
  },
  "language_info": {
   "codemirror_mode": {
    "name": "ipython",
    "version": 3
   },
   "file_extension": ".py",
   "mimetype": "text/x-python",
   "name": "python",
   "nbconvert_exporter": "python",
   "pygments_lexer": "ipython3",
   "version": "3.8.10"
  }
 },
 "nbformat": 4,
 "nbformat_minor": 5
}

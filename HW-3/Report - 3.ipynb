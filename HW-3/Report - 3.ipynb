{
 "cells": [
  {
   "cell_type": "markdown",
   "id": "a4f896c56cb701b4",
   "metadata": {},
   "source": [
    "# Seyed Mohammad Amin Atyabi - 830402014 - HW 3 (Part 3)"
   ]
  },
  {
   "cell_type": "markdown",
   "id": "d2f7257ea186545a",
   "metadata": {},
   "source": [
    "در ابتدا برای نصب پکیج $snap$ لازم بود تا نسخه 3.8 پایتون را نصب کنیم چراکه بر روی آخرین نسخه پایتون پشتیبانی نمیشد.\n",
    "\n",
    "پس از نصب به کمک راهنما موجود در وب سایت پکیج اسنپ و مستندات فنی آن، بخش های پیش رو انجام شده اند.\n",
    "\n",
    "برای انجام این بخش دیتاست آرا ویکی پدیا استفاده شده است.\n",
    "\n",
    "[Wikipedia vote network](https://snap.stanford.edu/data/wiki-Vote.html)"
   ]
  },
  {
   "cell_type": "markdown",
   "id": "a45ed31cab1a24c2",
   "metadata": {},
   "source": [
    "**الف**\n",
    "\n",
    "لیست یال ها این شبکه را در قالب یک شبکه جهت دار (همانطور که در توضیحات دیتاست آمده است) وارد برنامه میکنیم.\n",
    "\n",
    "به کمک توابع موجود، اطلاعات این شبکه ائم از تعداد گره ها و یال ها را چاپ میکنیم."
   ]
  },
  {
   "cell_type": "code",
   "execution_count": 1,
   "id": "67041a93",
   "metadata": {},
   "outputs": [
    {
     "name": "stdout",
     "output_type": "stream",
     "text": [
      "Graph: Directed\n",
      "  Nodes:                    7115\n",
      "  Edges:                    103689\n",
      "  Zero Deg Nodes:           0\n",
      "  Zero InDeg Nodes:         4734\n",
      "  Zero OutDeg Nodes:        1005\n",
      "  NonZero In-Out Deg Nodes: 1376\n"
     ]
    }
   ],
   "source": [
    "import snap\n",
    "\n",
    "graph = snap.LoadEdgeList(snap.TNGraph, \"Data/wiki-Vote.txt\", 0, 1)\n",
    "graph.PrintInfo()"
   ]
  },
  {
   "cell_type": "markdown",
   "id": "5a2ec66b9d2e2951",
   "metadata": {},
   "source": [
    "**ب**\n",
    "\n",
    "به کمک توابع موجود، تعداد یال های جهت دار و بدون جهت را چاپ میکنیم"
   ]
  },
  {
   "cell_type": "code",
   "execution_count": 2,
   "id": "2425645e455af6b7",
   "metadata": {},
   "outputs": [
    {
     "name": "stdout",
     "output_type": "stream",
     "text": [
      "Number of directed edges: 103689\n",
      "Number of undirected edges: 100762\n"
     ]
    }
   ],
   "source": [
    "print(f'Number of directed edges: {graph.CntUniqDirEdges()}')\n",
    "print(f'Number of undirected edges: {graph.CntUniqUndirEdges()}')"
   ]
  },
  {
   "cell_type": "markdown",
   "id": "fc840f29523da1c8",
   "metadata": {},
   "source": [
    "**ج**\n",
    "\n",
    "به کمک توابع موجود، میانگین ضریب خوشه بندی را چاپ میکنیم\n",
    "\n",
    "این تابع میانگین ضریب خوشه بندی را به ازای هر درجه نیز حساب میکند\n"
   ]
  },
  {
   "cell_type": "code",
   "execution_count": 3,
   "id": "76b71ecf",
   "metadata": {},
   "outputs": [
    {
     "name": "stdout",
     "output_type": "stream",
     "text": [
      "average clustering coefficient: 0.14089784589308724\n"
     ]
    }
   ],
   "source": [
    "result, _ = graph.GetClustCfAll()\n",
    "print(f'average clustering coefficient: {result[0]}')"
   ]
  },
  {
   "cell_type": "markdown",
   "id": "b5d4c947059687b2",
   "metadata": {},
   "source": [
    "**د**\n",
    "\n",
    "با استفاده از تابع $GetWccs$ تمام مولفه های همبندی ضعیف را بدست آورده و تعداد آن ها را چاپ میکنیم"
   ]
  },
  {
   "cell_type": "code",
   "execution_count": 4,
   "id": "bad81d5a",
   "metadata": {},
   "outputs": [
    {
     "name": "stdout",
     "output_type": "stream",
     "text": [
      "24\n"
     ]
    }
   ],
   "source": [
    "wccs = graph.GetWccs()\n",
    "print(len(wccs))"
   ]
  },
  {
   "cell_type": "markdown",
   "id": "888be8de82c73d5",
   "metadata": {},
   "source": [
    "**ه**\n",
    "\n",
    "تابع $GetMxScc$ بزرگترین مولفه همبندی گراف را در قالب یک گراف برمیگرداند.\n",
    "\n",
    "در این گراف با استفاده از تابع $PrintInfo$ تعداد گره ها را چاپ میکنیم."
   ]
  },
  {
   "cell_type": "code",
   "execution_count": 5,
   "id": "adf3ed56",
   "metadata": {},
   "outputs": [
    {
     "name": "stdout",
     "output_type": "stream",
     "text": [
      "Graph: Directed\n",
      "  Nodes:                    1300\n",
      "  Edges:                    39456\n",
      "  Zero Deg Nodes:           0\n",
      "  Zero InDeg Nodes:         0\n",
      "  Zero OutDeg Nodes:        0\n",
      "  NonZero In-Out Deg Nodes: 1300\n"
     ]
    }
   ],
   "source": [
    "max_scc = graph.GetMxScc()\n",
    "max_scc.PrintInfo()"
   ]
  },
  {
   "cell_type": "markdown",
   "id": "f197705082bcab38",
   "metadata": {},
   "source": [
    "**و**"
   ]
  },
  {
   "cell_type": "code",
   "execution_count": 6,
   "id": "4333fde4",
   "metadata": {},
   "outputs": [],
   "source": [
    "graph.PlotInDegDistr(\"wiki\", \"Directed graph - in-degree Distribution\", True, True)"
   ]
  },
  {
   "cell_type": "markdown",
   "id": "a1b9c131",
   "metadata": {},
   "source": [
    "<img src=\"Res/inDegC.wiki.png\" width=\"1280\">"
   ]
  },
  {
   "cell_type": "code",
   "execution_count": 7,
   "id": "713bcf40",
   "metadata": {},
   "outputs": [],
   "source": [
    "graph.PlotOutDegDistr(\"wiki\", \"Directed graph - out-degree Distribution\", True, True)"
   ]
  },
  {
   "cell_type": "markdown",
   "id": "976793b7",
   "metadata": {},
   "source": [
    "<img src=\"Res/outDegC.wiki.png\" width=\"1280\">"
   ]
  }
 ],
 "metadata": {
  "kernelspec": {
   "display_name": "Python 3",
   "language": "python",
   "name": "python3"
  },
  "language_info": {
   "codemirror_mode": {
    "name": "ipython",
    "version": 3
   },
   "file_extension": ".py",
   "mimetype": "text/x-python",
   "name": "python",
   "nbconvert_exporter": "python",
   "pygments_lexer": "ipython3",
   "version": "3.8.10"
  }
 },
 "nbformat": 4,
 "nbformat_minor": 5
}

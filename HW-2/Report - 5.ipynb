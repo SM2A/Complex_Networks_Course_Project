{
 "cells": [
  {
   "cell_type": "markdown",
   "source": [
    "# Seyed Mohammad Amin Atyabi - 830402014 - HW 2 (Part 5)"
   ],
   "metadata": {
    "collapsed": false
   },
   "id": "fe91f94f79f964"
  },
  {
   "cell_type": "markdown",
   "source": [
    "**الف**\n",
    "\n",
    "با توجه به اینکه در این سوال میتوانیم از کتابخانه استفاده کنیم، به کمک تابع زیر دو مدل اردوش-رینی تولید کردیم که در هر دو تعداد گره ها برابر با 2000 ولی احتمال وجود یال میان دو گره یکی برابر با 0.0001 و دیگری برابر با 0.005 است.\n",
    "\n",
    "```python\n",
    "networkx.erdos_renyi_graph(n, p)\n",
    "```"
   ],
   "metadata": {
    "collapsed": false
   },
   "id": "d6211f711491dc14"
  },
  {
   "cell_type": "code",
   "execution_count": 1,
   "outputs": [],
   "source": [
    "import networkx\n",
    "\n",
    "N = 2000\n",
    "\n",
    "network_0001 = networkx.erdos_renyi_graph(N, 0.0001)\n",
    "network_005 = networkx.erdos_renyi_graph(N, 0.005)"
   ],
   "metadata": {
    "collapsed": false,
    "ExecuteTime": {
     "end_time": "2024-04-05T20:04:41.121170100Z",
     "start_time": "2024-04-05T20:04:40.675782500Z"
    }
   },
   "id": "6bdc4e2a7544b224"
  },
  {
   "cell_type": "markdown",
   "source": [
    "**ب**"
   ],
   "metadata": {
    "collapsed": false
   },
   "id": "55f5f1aa547ecd4c"
  },
  {
   "cell_type": "code",
   "execution_count": 2,
   "outputs": [
    {
     "name": "stdout",
     "output_type": "stream",
     "text": [
      "p = 0.0001 --> #edges = 200\n",
      "p = 0.005 --> #edges = 9884\n"
     ]
    }
   ],
   "source": [
    "print(f'p = 0.0001 --> #edges = {len(network_0001.edges)}')\n",
    "print(f'p = 0.005 --> #edges = {len(network_005.edges)}')"
   ],
   "metadata": {
    "collapsed": false,
    "ExecuteTime": {
     "end_time": "2024-04-05T20:04:41.128377100Z",
     "start_time": "2024-04-05T20:04:41.122569100Z"
    }
   },
   "id": "df3968f74b54bdd8"
  },
  {
   "cell_type": "markdown",
   "source": [
    "**ج**\n",
    "\n",
    "به کمک تابع زیر از کتابخانه، تمام مولفه های همبندی را بدست آورده و سپس مولفه ای که بیشترین تعداد گره را دارد انتخاب میکنیم.\n",
    "\n",
    "```python\n",
    "networkx.connected_components(G)\n",
    "```\n",
    "\n",
    "سپس این مولفه را به عنوان یک زیر گراف فرض کرده و تعداد گره و یال این زیر گراف را بدست می آوریم."
   ],
   "metadata": {
    "collapsed": false
   },
   "id": "3c5c78588d684439"
  },
  {
   "cell_type": "code",
   "execution_count": 3,
   "outputs": [
    {
     "name": "stdout",
     "output_type": "stream",
     "text": [
      "p = 0.0001 --> GCC size = 5, GCC #edges = 4\n",
      "p = 0.005 --> GCC size = 2000, GCC #edges = 200\n"
     ]
    }
   ],
   "source": [
    "giant_component_0001 = max(networkx.connected_components(network_0001), key=len)\n",
    "sub_graph_0001 = network_0001.subgraph(giant_component_0001)\n",
    "\n",
    "giant_component_005 = max(networkx.connected_components(network_005), key=len)\n",
    "sub_graph_005 = network_0001.subgraph(giant_component_005)\n",
    "\n",
    "print(f'p = 0.0001 --> GCC size = {len(sub_graph_0001.nodes)}, GCC #edges = {len(sub_graph_0001.edges)}')\n",
    "print(f'p = 0.005 --> GCC size = {len(sub_graph_005.nodes)}, GCC #edges = {len(sub_graph_005.edges)}')"
   ],
   "metadata": {
    "collapsed": false,
    "ExecuteTime": {
     "end_time": "2024-04-05T20:04:41.143924500Z",
     "start_time": "2024-04-05T20:04:41.129377300Z"
    }
   },
   "id": "36dd16b7a7d4a4c5"
  },
  {
   "cell_type": "markdown",
   "source": [
    "**د**\n",
    "\n",
    "در این نمودار هر سه محدوده اتصال یک شبکه تصادفی مشخص است که به تدریج تکامل یافته است:\n",
    "- subcritical regime: از احتما 0.0001 تا حدود 0.00015 در این محدوده هستیم که در واقع هیچ مولفه همبندی بزرگی نداریم\n",
    "- critical point: حدود احتمال 0.00015 در منطقه حیاتی هستیم. در این محل وارد محدوده دیگری میشویم.\n",
    "- suprecritical regime: از احتمال 0.00015 تا 0.0025 در منطه فوق حیاتی هستیم. در این منقطه یک مولفه همبندی بزرگ تشکیل شده است\n",
    "- connected regime: از احتمال 0.0025 به بعد به حوزه متصل وارد میشویم. در این منطقه تنها یک مولفه همبندی وجود دارد و همه گره ها به هم متصل هستند."
   ],
   "metadata": {
    "collapsed": false
   },
   "id": "2a5e2722c5de628d"
  },
  {
   "cell_type": "code",
   "execution_count": 4,
   "outputs": [
    {
     "data": {
      "text/plain": "<Figure size 640x480 with 1 Axes>",
      "image/png": "[encoded data removed]"
     },
     "metadata": {},
     "output_type": "display_data"
    }
   ],
   "source": [
    "from matplotlib import pyplot as plt\n",
    "\n",
    "p = 0.0001\n",
    "p_list = []\n",
    "n_list = []\n",
    "while p <= 0.005:\n",
    "    network = networkx.erdos_renyi_graph(N, p)\n",
    "    gcc = max(networkx.connected_components(network), key=len)\n",
    "    n_list.append(len(network.subgraph(gcc).nodes))\n",
    "    p_list.append(p)\n",
    "    p += 0.0001\n",
    "    \n",
    "plt.plot(p_list, n_list, color='c')\n",
    "plt.xlabel('Probability')\n",
    "plt.ylabel('GCC Size')\n",
    "plt.grid()\n",
    "plt.show()"
   ],
   "metadata": {
    "collapsed": false,
    "ExecuteTime": {
     "end_time": "2024-04-05T20:04:46.597429500Z",
     "start_time": "2024-04-05T20:04:41.143924500Z"
    }
   },
   "id": "5d12bb1aca778846"
  },
  {
   "cell_type": "markdown",
   "source": [
    "**ه**\n",
    "\n",
    "به کمک تقریب استرلینگ رابطه زیر را بازنویسی میکنیم.\n",
    "\n",
    "$$ p_k = e^{-<k>} \\frac{<k>^k}{k!} , k! \\sim [\\sqrt{2\\pi k}](\\frac{k}{e})^e $$\n",
    "\n",
    "$$ p_k = \\frac{e^{-<k>}}{\\sqrt{2\\pi k}}(\\frac{e<k>}{k})^k $$\n",
    "\n",
    " حال به ازای $k > e<k>$ عبارت داخل پرانتر از 1 کوچکتر است\n",
    " \n",
    "همچنین عبارت $(\\frac{e<k>}{k})^k$ به سرعت با افزایش $k$ افت میکند\n",
    "\n",
    "در نتیجه در یک شبکه تصادفی، احتمال وجود هاب با سرعتی بیشتر از نمایی کم میشود."
   ],
   "metadata": {
    "collapsed": false
   },
   "id": "759e5f46b7699349"
  }
 ],
 "metadata": {
  "kernelspec": {
   "display_name": "Python 3",
   "language": "python",
   "name": "python3"
  },
  "language_info": {
   "codemirror_mode": {
    "name": "ipython",
    "version": 2
   },
   "file_extension": ".py",
   "mimetype": "text/x-python",
   "name": "python",
   "nbconvert_exporter": "python",
   "pygments_lexer": "ipython2",
   "version": "2.7.6"
  }
 },
 "nbformat": 4,
 "nbformat_minor": 5
}

{
 "cells": [
  {
   "cell_type": "markdown",
   "id": "a4f896c56cb701b4",
   "metadata": {},
   "source": [
    "# Seyed Mohammad Amin Atyabi - 830402014 - HW 3 (Part 4)"
   ]
  },
  {
   "cell_type": "code",
   "execution_count": 9,
   "id": "eb795107",
   "metadata": {},
   "outputs": [
    {
     "name": "stdout",
     "output_type": "stream",
     "text": [
      "Graph:\n",
      "  Nodes:                    5242\n",
      "  Edges:                    14484\n",
      "  Zero Deg Nodes:           21\n",
      "  Zero InDeg Nodes:         21\n",
      "  Zero OutDeg Nodes:        21\n",
      "  NonZero In-Out Deg Nodes: 5221\n"
     ]
    }
   ],
   "source": [
    "import snap\n",
    "\n",
    "random_graph = snap.TUNGraph.New()\n",
    "\n",
    "for v in range(5242):\n",
    "    random_graph.AddNode(v)\n",
    "\n",
    "while random_graph.GetEdges() < 14484:\n",
    "    random_graph.AddEdge(random_graph.GetRndNId(), random_graph.GetRndNId())\n",
    "\n",
    "random_graph.PrintInfo()"
   ]
  },
  {
   "cell_type": "code",
   "execution_count": 13,
   "id": "af9bd7f8",
   "metadata": {},
   "outputs": [
    {
     "name": "stdout",
     "output_type": "stream",
     "text": [
      "Graph:\n",
      "  Nodes:                    5242\n",
      "  Edges:                    14484\n",
      "  Zero Deg Nodes:           0\n",
      "  Zero InDeg Nodes:         0\n",
      "  Zero OutDeg Nodes:        0\n",
      "  NonZero In-Out Deg Nodes: 5242\n"
     ]
    }
   ],
   "source": [
    "rnd = snap.TRnd(1,0)\n",
    "sm_graph = snap.GenSmallWorld(5242, 2, 0, rnd)\n",
    "while sm_graph.GetEdges() < 14484:\n",
    "    sm_graph.AddEdge(sm_graph.GetRndNId(), sm_graph.GetRndNId())\n",
    "sm_graph.PrintInfo()"
   ]
  }
 ],
 "metadata": {
  "kernelspec": {
   "display_name": "Python 3",
   "language": "python",
   "name": "python3"
  },
  "language_info": {
   "codemirror_mode": {
    "name": "ipython",
    "version": 3
   },
   "file_extension": ".py",
   "mimetype": "text/x-python",
   "name": "python",
   "nbconvert_exporter": "python",
   "pygments_lexer": "ipython3",
   "version": "3.8.10"
  }
 },
 "nbformat": 4,
 "nbformat_minor": 5
}
